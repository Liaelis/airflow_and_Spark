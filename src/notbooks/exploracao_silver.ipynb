{
 "cells": [
  {
   "cell_type": "code",
   "execution_count": 1,
   "metadata": {
    "collapsed": true,
    "ExecuteTime": {
     "end_time": "2023-09-08T12:42:51.188369099Z",
     "start_time": "2023-09-08T12:42:51.019746329Z"
    }
   },
   "outputs": [],
   "source": [
    "from pyspark.sql import SparkSession"
   ]
  },
  {
   "cell_type": "code",
   "execution_count": 2,
   "outputs": [
    {
     "name": "stdout",
     "output_type": "stream",
     "text": [
      "23/09/08 09:44:29 WARN Utils: Your hostname, lia-pc resolves to a loopback address: 127.0.1.1; using 192.168.0.101 instead (on interface enp6s0)\n",
      "23/09/08 09:44:29 WARN Utils: Set SPARK_LOCAL_IP if you need to bind to another address\n"
     ]
    },
    {
     "name": "stderr",
     "output_type": "stream",
     "text": [
      "Setting default log level to \"WARN\".\n",
      "To adjust logging level use sc.setLogLevel(newLevel). For SparkR, use setLogLevel(newLevel).\n"
     ]
    },
    {
     "name": "stdout",
     "output_type": "stream",
     "text": [
      "23/09/08 09:44:30 WARN NativeCodeLoader: Unable to load native-hadoop library for your platform... using builtin-java classes where applicable\n"
     ]
    }
   ],
   "source": [
    "spark= SparkSession\\\n",
    "    .builder\\\n",
    "    .appName(\"twitter_silver\")\\\n",
    "    .getOrCreate()\n"
   ],
   "metadata": {
    "collapsed": false,
    "ExecuteTime": {
     "end_time": "2023-09-08T12:44:31.681701867Z",
     "start_time": "2023-09-08T12:44:28.254074773Z"
    }
   }
  },
  {
   "cell_type": "code",
   "execution_count": null,
   "outputs": [],
   "source": [],
   "metadata": {
    "collapsed": false
   }
  },
  {
   "cell_type": "code",
   "execution_count": 5,
   "outputs": [],
   "source": [
    "df_tweet = spark.read.json(\"/home/lia/Documents/curso2/datalake/Silver/twitter_datascience/tweet\")"
   ],
   "metadata": {
    "collapsed": false,
    "ExecuteTime": {
     "end_time": "2023-09-08T12:52:14.020152286Z",
     "start_time": "2023-09-08T12:52:11.576485786Z"
    }
   }
  },
  {
   "cell_type": "code",
   "execution_count": 6,
   "outputs": [
    {
     "name": "stdout",
     "output_type": "stream",
     "text": [
      "root\n",
      " |-- author_id: string (nullable = true)\n",
      " |-- conversation_id: string (nullable = true)\n",
      " |-- created_at: string (nullable = true)\n",
      " |-- id: string (nullable = true)\n",
      " |-- like_count: long (nullable = true)\n",
      " |-- quote_count: long (nullable = true)\n",
      " |-- reply_count: long (nullable = true)\n",
      " |-- retweet_count: long (nullable = true)\n",
      " |-- text: string (nullable = true)\n",
      " |-- process_date: date (nullable = true)\n",
      "\n"
     ]
    }
   ],
   "source": [
    "df_tweet.printSchema()"
   ],
   "metadata": {
    "collapsed": false,
    "ExecuteTime": {
     "end_time": "2023-09-08T12:53:10.186954647Z",
     "start_time": "2023-09-08T12:53:10.142015826Z"
    }
   }
  },
  {
   "cell_type": "code",
   "execution_count": 7,
   "outputs": [],
   "source": [
    "from pyspark.sql import functions as f"
   ],
   "metadata": {
    "collapsed": false,
    "ExecuteTime": {
     "end_time": "2023-09-08T12:54:28.614300665Z",
     "start_time": "2023-09-08T12:54:28.569140027Z"
    }
   }
  },
  {
   "cell_type": "code",
   "execution_count": 8,
   "outputs": [],
   "source": [
    "tweet_conversas = df_tweet.alias(\"tweet\")\\\n",
    "                    .groupBy(f.to_date(\"created_at\").alias(\"created_date\"))\\\n",
    "                        .agg(\n",
    "                            f.countDistinct(\"author_id\").alias(\"n_tweets\"),\n",
    "                            f.sum(\"like_count\").alias(\"n_like\"),\n",
    "                            f.sum(\"quote_count\").alias(\"n_quote\"),\n",
    "                            f.sum(\"reply_count\").alias(\"n_reply\"),\n",
    "                            f.sum(\"retweet_count\").alias(\"n_retweet\")\n",
    "                        ).withColumn(\"weekday\",f.date_format(\"created_date\", \"E\"))"
   ],
   "metadata": {
    "collapsed": false,
    "ExecuteTime": {
     "end_time": "2023-09-08T13:03:39.682049099Z",
     "start_time": "2023-09-08T13:03:39.530933758Z"
    }
   }
  },
  {
   "cell_type": "code",
   "execution_count": 9,
   "outputs": [
    {
     "name": "stdout",
     "output_type": "stream",
     "text": [
      "+------------+--------+------+-------+-------+---------+-------+\n",
      "|created_date|n_tweets|n_like|n_quote|n_reply|n_retweet|weekday|\n",
      "+------------+--------+------+-------+-------+---------+-------+\n",
      "|  2022-11-29|      62|   100|      0|      5|    15062|    Tue|\n",
      "|  2022-11-23|      42|   152|      1|      6|     2554|    Wed|\n",
      "|  2022-11-28|      65|   243|      1|     14|     5763|    Mon|\n",
      "|  2022-11-24|      60|   204|      1|      4|     3634|    Thu|\n",
      "|  2022-11-27|      46|    20|      1|      3|     5538|    Sun|\n",
      "|  2022-11-26|      72|    40|      0|      1|     5788|    Sat|\n",
      "|  2022-11-25|      47|     8|      0|      1|     4510|    Fri|\n",
      "+------------+--------+------+-------+-------+---------+-------+\n",
      "\n"
     ]
    }
   ],
   "source": [
    "tweet_conversas.show()"
   ],
   "metadata": {
    "collapsed": false,
    "ExecuteTime": {
     "end_time": "2023-09-08T13:03:56.607419571Z",
     "start_time": "2023-09-08T13:03:55.161367546Z"
    }
   }
  },
  {
   "cell_type": "code",
   "execution_count": null,
   "outputs": [],
   "source": [],
   "metadata": {
    "collapsed": false
   }
  }
 ],
 "metadata": {
  "kernelspec": {
   "display_name": "Python 3",
   "language": "python",
   "name": "python3"
  },
  "language_info": {
   "codemirror_mode": {
    "name": "ipython",
    "version": 2
   },
   "file_extension": ".py",
   "mimetype": "text/x-python",
   "name": "python",
   "nbconvert_exporter": "python",
   "pygments_lexer": "ipython2",
   "version": "2.7.6"
  }
 },
 "nbformat": 4,
 "nbformat_minor": 0
}
