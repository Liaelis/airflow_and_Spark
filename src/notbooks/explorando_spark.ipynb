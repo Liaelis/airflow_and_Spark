{
 "cells": [
  {
   "cell_type": "code",
   "execution_count": 1,
   "metadata": {
    "collapsed": true,
    "ExecuteTime": {
     "end_time": "2023-09-05T14:03:18.600982453Z",
     "start_time": "2023-09-05T14:03:18.461281946Z"
    }
   },
   "outputs": [],
   "source": [
    "from pyspark.sql import SparkSession"
   ]
  },
  {
   "cell_type": "code",
   "execution_count": 2,
   "outputs": [
    {
     "name": "stdout",
     "output_type": "stream",
     "text": [
      "23/09/05 11:04:11 WARN Utils: Your hostname, lia-pc resolves to a loopback address: 127.0.1.1; using 192.168.0.101 instead (on interface enp6s0)\n",
      "23/09/05 11:04:11 WARN Utils: Set SPARK_LOCAL_IP if you need to bind to another address\n"
     ]
    },
    {
     "name": "stderr",
     "output_type": "stream",
     "text": [
      "Setting default log level to \"WARN\".\n",
      "To adjust logging level use sc.setLogLevel(newLevel). For SparkR, use setLogLevel(newLevel).\n"
     ]
    },
    {
     "name": "stdout",
     "output_type": "stream",
     "text": [
      "23/09/05 11:04:12 WARN NativeCodeLoader: Unable to load native-hadoop library for your platform... using builtin-java classes where applicable\n"
     ]
    }
   ],
   "source": [
    "spark = SparkSession\\\n",
    "    .builder\\\n",
    "    .appName(\"twitter_transformation\")\\\n",
    "    .getOrCreate()"
   ],
   "metadata": {
    "collapsed": false,
    "ExecuteTime": {
     "end_time": "2023-09-05T14:04:16.739806647Z",
     "start_time": "2023-09-05T14:04:09.472592349Z"
    }
   }
  },
  {
   "cell_type": "code",
   "execution_count": 5,
   "outputs": [],
   "source": [
    "df = spark.read.json(\"../../datalake/twitter_datascience\")"
   ],
   "metadata": {
    "collapsed": false,
    "ExecuteTime": {
     "end_time": "2023-09-05T14:08:54.776421325Z",
     "start_time": "2023-09-05T14:08:52.351903231Z"
    }
   }
  },
  {
   "cell_type": "code",
   "execution_count": 6,
   "outputs": [
    {
     "name": "stdout",
     "output_type": "stream",
     "text": [
      "+--------------------+--------------------+--------------------+------------+\n",
      "|                data|            includes|                meta|extract_date|\n",
      "+--------------------+--------------------+--------------------+------------+\n",
      "|[{146822630164340...|{[{2021-12-07T14:...|{1597742169376579...|  2022-11-29|\n",
      "|[{935446829730291...|{[{2017-11-28T09:...|{1597741505149808...|  2022-11-29|\n",
      "|[{140333728412517...|{[{2021-06-11T13:...|{1597741130573123...|  2022-11-29|\n",
      "|[{131725596376263...|{[{2020-10-17T00:...|{1597740187773435...|  2022-11-29|\n",
      "|[{942496609434292...|{[{2017-12-17T20:...|{1597739801792348...|  2022-11-29|\n",
      "|[{190097582, 1597...|{[{2010-09-13T02:...|{1597739085149270...|  2022-11-29|\n",
      "|[{156528072615680...|{[{2022-09-01T10:...|{1597738629081743...|  2022-11-29|\n",
      "|[{145057394, 1597...|{[{2010-05-18T01:...|{1597738485531934...|  2022-11-29|\n",
      "|[{17977727, 15977...|{[{2008-12-08T23:...|{1597737850904416...|  2022-11-29|\n",
      "|[{19664316, 15977...|{[{2009-01-28T17:...|{1597737492081512...|  2022-11-29|\n",
      "|[{146822630164340...|{[{2021-12-07T14:...|{1597742169376579...|  2022-11-29|\n",
      "|[{935446829730291...|{[{2017-11-28T09:...|{1597741505149808...|  2022-11-29|\n",
      "|[{140333728412517...|{[{2021-06-11T13:...|{1597741130573123...|  2022-11-29|\n",
      "|[{131725596376263...|{[{2020-10-17T00:...|{1597740187773435...|  2022-11-29|\n",
      "|[{942496609434292...|{[{2017-12-17T20:...|{1597739801792348...|  2022-11-29|\n",
      "|[{190097582, 1597...|{[{2010-09-13T02:...|{1597739085149270...|  2022-11-29|\n",
      "|[{156528072615680...|{[{2022-09-01T10:...|{1597738629081743...|  2022-11-29|\n",
      "|[{145057394, 1597...|{[{2010-05-18T01:...|{1597738485531934...|  2022-11-29|\n",
      "|[{17977727, 15977...|{[{2008-12-08T23:...|{1597737850904416...|  2022-11-29|\n",
      "|[{19664316, 15977...|{[{2009-01-28T17:...|{1597737492081512...|  2022-11-29|\n",
      "+--------------------+--------------------+--------------------+------------+\n",
      "only showing top 20 rows\n",
      "\n"
     ]
    }
   ],
   "source": [
    "df.show(\n",
    ")"
   ],
   "metadata": {
    "collapsed": false,
    "ExecuteTime": {
     "end_time": "2023-09-05T14:09:09.424643938Z",
     "start_time": "2023-09-05T14:09:08.882993138Z"
    }
   }
  },
  {
   "cell_type": "code",
   "execution_count": null,
   "outputs": [],
   "source": [],
   "metadata": {
    "collapsed": false
   }
  }
 ],
 "metadata": {
  "kernelspec": {
   "display_name": "Python 3",
   "language": "python",
   "name": "python3"
  },
  "language_info": {
   "codemirror_mode": {
    "name": "ipython",
    "version": 2
   },
   "file_extension": ".py",
   "mimetype": "text/x-python",
   "name": "python",
   "nbconvert_exporter": "python",
   "pygments_lexer": "ipython2",
   "version": "2.7.6"
  }
 },
 "nbformat": 4,
 "nbformat_minor": 0
}
