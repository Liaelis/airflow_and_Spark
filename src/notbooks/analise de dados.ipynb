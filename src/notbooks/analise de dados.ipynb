{
 "cells": [
  {
   "cell_type": "code",
   "execution_count": 20,
   "metadata": {
    "collapsed": true,
    "ExecuteTime": {
     "end_time": "2023-09-08T17:04:13.022430531Z",
     "start_time": "2023-09-08T17:04:07.067756657Z"
    }
   },
   "outputs": [
    {
     "name": "stdout",
     "output_type": "stream",
     "text": [
      "Requirement already satisfied: pandas in /home/lia/Documents/curso2/venv/lib/python3.9/site-packages (2.1.0)\r\n",
      "Requirement already satisfied: matplotlib in /home/lia/Documents/curso2/venv/lib/python3.9/site-packages (3.7.2)\r\n",
      "Requirement already satisfied: tzdata>=2022.1 in /home/lia/Documents/curso2/venv/lib/python3.9/site-packages (from pandas) (2023.3)\r\n",
      "Requirement already satisfied: python-dateutil>=2.8.2 in /home/lia/Documents/curso2/venv/lib/python3.9/site-packages (from pandas) (2.8.2)\r\n",
      "Requirement already satisfied: pytz>=2020.1 in /home/lia/Documents/curso2/venv/lib/python3.9/site-packages (from pandas) (2022.1)\r\n",
      "Requirement already satisfied: numpy>=1.22.4 in /home/lia/Documents/curso2/venv/lib/python3.9/site-packages (from pandas) (1.25.2)\r\n",
      "Requirement already satisfied: cycler>=0.10 in /home/lia/Documents/curso2/venv/lib/python3.9/site-packages (from matplotlib) (0.11.0)\r\n",
      "Requirement already satisfied: contourpy>=1.0.1 in /home/lia/Documents/curso2/venv/lib/python3.9/site-packages (from matplotlib) (1.1.0)\r\n",
      "Requirement already satisfied: packaging>=20.0 in /home/lia/Documents/curso2/venv/lib/python3.9/site-packages (from matplotlib) (21.3)\r\n",
      "Requirement already satisfied: pillow>=6.2.0 in /home/lia/Documents/curso2/venv/lib/python3.9/site-packages (from matplotlib) (10.0.0)\r\n",
      "Requirement already satisfied: kiwisolver>=1.0.1 in /home/lia/Documents/curso2/venv/lib/python3.9/site-packages (from matplotlib) (1.4.5)\r\n",
      "Requirement already satisfied: pyparsing<3.1,>=2.3.1 in /home/lia/Documents/curso2/venv/lib/python3.9/site-packages (from matplotlib) (2.4.7)\r\n",
      "Requirement already satisfied: importlib-resources>=3.2.0 in /home/lia/Documents/curso2/venv/lib/python3.9/site-packages (from matplotlib) (6.0.1)\r\n",
      "Requirement already satisfied: fonttools>=4.22.0 in /home/lia/Documents/curso2/venv/lib/python3.9/site-packages (from matplotlib) (4.42.1)\r\n",
      "Requirement already satisfied: zipp>=3.1.0 in /home/lia/Documents/curso2/venv/lib/python3.9/site-packages (from importlib-resources>=3.2.0->matplotlib) (3.8.0)\r\n",
      "Requirement already satisfied: six>=1.5 in /home/lia/Documents/curso2/venv/lib/python3.9/site-packages (from python-dateutil>=2.8.2->pandas) (1.16.0)\r\n",
      "\r\n",
      "\u001B[1m[\u001B[0m\u001B[34;49mnotice\u001B[0m\u001B[1;39;49m]\u001B[0m\u001B[39;49m A new release of pip is available: \u001B[0m\u001B[31;49m23.0.1\u001B[0m\u001B[39;49m -> \u001B[0m\u001B[32;49m23.2.1\u001B[0m\r\n",
      "\u001B[1m[\u001B[0m\u001B[34;49mnotice\u001B[0m\u001B[1;39;49m]\u001B[0m\u001B[39;49m To update, run: \u001B[0m\u001B[32;49mpip install --upgrade pip\u001B[0m\r\n"
     ]
    }
   ],
   "source": [
    "!pip install pandas matplotlib\n"
   ]
  },
  {
   "cell_type": "code",
   "execution_count": 21,
   "outputs": [],
   "source": [
    "import pandas as pd"
   ],
   "metadata": {
    "collapsed": false,
    "ExecuteTime": {
     "end_time": "2023-09-08T17:04:30.757400014Z",
     "start_time": "2023-09-08T17:04:30.734071495Z"
    }
   }
  },
  {
   "cell_type": "code",
   "execution_count": 32,
   "outputs": [],
   "source": [
    "df = pd.read_json(\"//home/lia/Documents/curso2/datalake/Gold/twitter_datascience/process_date=2023-09-02/part-00000-9f7417d2-271b-4f37-ac18-97d95990bc47-c000.json\", lines=True)"
   ],
   "metadata": {
    "collapsed": false,
    "ExecuteTime": {
     "end_time": "2023-09-08T17:14:59.832214317Z",
     "start_time": "2023-09-08T17:14:59.790248925Z"
    }
   }
  },
  {
   "cell_type": "code",
   "execution_count": 33,
   "outputs": [
    {
     "data": {
      "text/plain": "  created_date  n_tweets  n_like  n_quote  n_reply  n_retweet weekday\n0   2022-11-29        62     100        0        5      15062     Tue\n1   2023-09-03        19     966     1035     1249       1219     Sun\n2   2022-11-23        42     152        1        6       2554     Wed\n3   2022-11-28        65     243        1       14       5763     Mon\n4   2022-11-24        60     204        1        4       3634     Thu",
      "text/html": "<div>\n<style scoped>\n    .dataframe tbody tr th:only-of-type {\n        vertical-align: middle;\n    }\n\n    .dataframe tbody tr th {\n        vertical-align: top;\n    }\n\n    .dataframe thead th {\n        text-align: right;\n    }\n</style>\n<table border=\"1\" class=\"dataframe\">\n  <thead>\n    <tr style=\"text-align: right;\">\n      <th></th>\n      <th>created_date</th>\n      <th>n_tweets</th>\n      <th>n_like</th>\n      <th>n_quote</th>\n      <th>n_reply</th>\n      <th>n_retweet</th>\n      <th>weekday</th>\n    </tr>\n  </thead>\n  <tbody>\n    <tr>\n      <th>0</th>\n      <td>2022-11-29</td>\n      <td>62</td>\n      <td>100</td>\n      <td>0</td>\n      <td>5</td>\n      <td>15062</td>\n      <td>Tue</td>\n    </tr>\n    <tr>\n      <th>1</th>\n      <td>2023-09-03</td>\n      <td>19</td>\n      <td>966</td>\n      <td>1035</td>\n      <td>1249</td>\n      <td>1219</td>\n      <td>Sun</td>\n    </tr>\n    <tr>\n      <th>2</th>\n      <td>2022-11-23</td>\n      <td>42</td>\n      <td>152</td>\n      <td>1</td>\n      <td>6</td>\n      <td>2554</td>\n      <td>Wed</td>\n    </tr>\n    <tr>\n      <th>3</th>\n      <td>2022-11-28</td>\n      <td>65</td>\n      <td>243</td>\n      <td>1</td>\n      <td>14</td>\n      <td>5763</td>\n      <td>Mon</td>\n    </tr>\n    <tr>\n      <th>4</th>\n      <td>2022-11-24</td>\n      <td>60</td>\n      <td>204</td>\n      <td>1</td>\n      <td>4</td>\n      <td>3634</td>\n      <td>Thu</td>\n    </tr>\n  </tbody>\n</table>\n</div>"
     },
     "execution_count": 33,
     "metadata": {},
     "output_type": "execute_result"
    }
   ],
   "source": [
    "df.head()"
   ],
   "metadata": {
    "collapsed": false,
    "ExecuteTime": {
     "end_time": "2023-09-08T17:15:02.056957395Z",
     "start_time": "2023-09-08T17:15:02.025239755Z"
    }
   }
  },
  {
   "cell_type": "code",
   "execution_count": 30,
   "outputs": [],
   "source": [
    "df.created_date = pd.to_datetime(df.created_date)"
   ],
   "metadata": {
    "collapsed": false,
    "ExecuteTime": {
     "end_time": "2023-09-08T17:12:20.195601585Z",
     "start_time": "2023-09-08T17:12:20.153378189Z"
    }
   }
  },
  {
   "cell_type": "code",
   "execution_count": 34,
   "outputs": [
    {
     "data": {
      "text/plain": "<Axes: xlabel='weekday'>"
     },
     "execution_count": 34,
     "metadata": {},
     "output_type": "execute_result"
    },
    {
     "data": {
      "text/plain": "<Figure size 640x480 with 1 Axes>",
      "image/png": "[encoded data removed]"
     },
     "metadata": {},
     "output_type": "display_data"
    }
   ],
   "source": [
    "df.groupby(\"weekday\").sum().loc[:].reset_index().plot(kind=\"bar\", x=\"weekday\", y=[\"n_tweets\", \"n_like\", \"n_quote\", \"n_reply\"])"
   ],
   "metadata": {
    "collapsed": false,
    "ExecuteTime": {
     "end_time": "2023-09-08T17:15:11.476963063Z",
     "start_time": "2023-09-08T17:15:09.857922050Z"
    }
   }
  },
  {
   "cell_type": "code",
   "execution_count": 26,
   "outputs": [
    {
     "data": {
      "text/plain": "  created_date  n_tweets  n_like  n_quote  n_reply  n_retweet weekday\n0   2022-11-29        62     100        0        5      15062     Tue\n1   2023-09-03        19     966     1035     1249       1219     Sun\n2   2022-11-23        42     152        1        6       2554     Wed\n3   2022-11-28        65     243        1       14       5763     Mon\n4   2022-11-24        60     204        1        4       3634     Thu",
      "text/html": "<div>\n<style scoped>\n    .dataframe tbody tr th:only-of-type {\n        vertical-align: middle;\n    }\n\n    .dataframe tbody tr th {\n        vertical-align: top;\n    }\n\n    .dataframe thead th {\n        text-align: right;\n    }\n</style>\n<table border=\"1\" class=\"dataframe\">\n  <thead>\n    <tr style=\"text-align: right;\">\n      <th></th>\n      <th>created_date</th>\n      <th>n_tweets</th>\n      <th>n_like</th>\n      <th>n_quote</th>\n      <th>n_reply</th>\n      <th>n_retweet</th>\n      <th>weekday</th>\n    </tr>\n  </thead>\n  <tbody>\n    <tr>\n      <th>0</th>\n      <td>2022-11-29</td>\n      <td>62</td>\n      <td>100</td>\n      <td>0</td>\n      <td>5</td>\n      <td>15062</td>\n      <td>Tue</td>\n    </tr>\n    <tr>\n      <th>1</th>\n      <td>2023-09-03</td>\n      <td>19</td>\n      <td>966</td>\n      <td>1035</td>\n      <td>1249</td>\n      <td>1219</td>\n      <td>Sun</td>\n    </tr>\n    <tr>\n      <th>2</th>\n      <td>2022-11-23</td>\n      <td>42</td>\n      <td>152</td>\n      <td>1</td>\n      <td>6</td>\n      <td>2554</td>\n      <td>Wed</td>\n    </tr>\n    <tr>\n      <th>3</th>\n      <td>2022-11-28</td>\n      <td>65</td>\n      <td>243</td>\n      <td>1</td>\n      <td>14</td>\n      <td>5763</td>\n      <td>Mon</td>\n    </tr>\n    <tr>\n      <th>4</th>\n      <td>2022-11-24</td>\n      <td>60</td>\n      <td>204</td>\n      <td>1</td>\n      <td>4</td>\n      <td>3634</td>\n      <td>Thu</td>\n    </tr>\n  </tbody>\n</table>\n</div>"
     },
     "execution_count": 26,
     "metadata": {},
     "output_type": "execute_result"
    }
   ],
   "source": [
    "df.head(\n",
    "\n",
    ")\n"
   ],
   "metadata": {
    "collapsed": false,
    "ExecuteTime": {
     "end_time": "2023-09-08T17:04:45.825830177Z",
     "start_time": "2023-09-08T17:04:45.774095114Z"
    }
   }
  },
  {
   "cell_type": "code",
   "execution_count": 19,
   "outputs": [
    {
     "ename": "AttributeError",
     "evalue": "'DataFrame' object has no attribute 'printSchema'",
     "output_type": "error",
     "traceback": [
      "\u001B[0;31m---------------------------------------------------------------------------\u001B[0m",
      "\u001B[0;31mAttributeError\u001B[0m                            Traceback (most recent call last)",
      "\u001B[0;32m/tmp/ipykernel_31032/1457074806.py\u001B[0m in \u001B[0;36m?\u001B[0;34m()\u001B[0m\n\u001B[0;32m----> 1\u001B[0;31m \u001B[0mdf\u001B[0m\u001B[0;34m.\u001B[0m\u001B[0mprintSchema\u001B[0m\u001B[0;34m(\u001B[0m\u001B[0;34m)\u001B[0m\u001B[0;34m\u001B[0m\u001B[0;34m\u001B[0m\u001B[0m\n\u001B[0m",
      "\u001B[0;32m~/Documents/curso2/venv/lib/python3.9/site-packages/pandas/core/generic.py\u001B[0m in \u001B[0;36m?\u001B[0;34m(self, name)\u001B[0m\n\u001B[1;32m   6198\u001B[0m             \u001B[0;32mand\u001B[0m \u001B[0mname\u001B[0m \u001B[0;32mnot\u001B[0m \u001B[0;32min\u001B[0m \u001B[0mself\u001B[0m\u001B[0;34m.\u001B[0m\u001B[0m_accessors\u001B[0m\u001B[0;34m\u001B[0m\u001B[0;34m\u001B[0m\u001B[0m\n\u001B[1;32m   6199\u001B[0m             \u001B[0;32mand\u001B[0m \u001B[0mself\u001B[0m\u001B[0;34m.\u001B[0m\u001B[0m_info_axis\u001B[0m\u001B[0;34m.\u001B[0m\u001B[0m_can_hold_identifiers_and_holds_name\u001B[0m\u001B[0;34m(\u001B[0m\u001B[0mname\u001B[0m\u001B[0;34m)\u001B[0m\u001B[0;34m\u001B[0m\u001B[0;34m\u001B[0m\u001B[0m\n\u001B[1;32m   6200\u001B[0m         ):\n\u001B[1;32m   6201\u001B[0m             \u001B[0;32mreturn\u001B[0m \u001B[0mself\u001B[0m\u001B[0;34m[\u001B[0m\u001B[0mname\u001B[0m\u001B[0;34m]\u001B[0m\u001B[0;34m\u001B[0m\u001B[0;34m\u001B[0m\u001B[0m\n\u001B[0;32m-> 6202\u001B[0;31m         \u001B[0;32mreturn\u001B[0m \u001B[0mobject\u001B[0m\u001B[0;34m.\u001B[0m\u001B[0m__getattribute__\u001B[0m\u001B[0;34m(\u001B[0m\u001B[0mself\u001B[0m\u001B[0;34m,\u001B[0m \u001B[0mname\u001B[0m\u001B[0;34m)\u001B[0m\u001B[0;34m\u001B[0m\u001B[0;34m\u001B[0m\u001B[0m\n\u001B[0m",
      "\u001B[0;31mAttributeError\u001B[0m: 'DataFrame' object has no attribute 'printSchema'"
     ]
    }
   ],
   "source": [
    "df.printSchema()"
   ],
   "metadata": {
    "collapsed": false,
    "ExecuteTime": {
     "end_time": "2023-09-08T17:03:54.636953233Z",
     "start_time": "2023-09-08T17:03:54.610746990Z"
    }
   }
  },
  {
   "cell_type": "code",
   "execution_count": 29,
   "outputs": [
    {
     "data": {
      "text/plain": "created_date    datetime64[ns]\nn_tweets                 int64\nn_like                   int64\nn_quote                  int64\nn_reply                  int64\nn_retweet                int64\nweekday                 object\ndtype: object"
     },
     "execution_count": 29,
     "metadata": {},
     "output_type": "execute_result"
    }
   ],
   "source": [
    "df.dtypes"
   ],
   "metadata": {
    "collapsed": false,
    "ExecuteTime": {
     "end_time": "2023-09-08T17:12:07.983042742Z",
     "start_time": "2023-09-08T17:12:07.973016427Z"
    }
   }
  },
  {
   "cell_type": "code",
   "execution_count": null,
   "outputs": [],
   "source": [],
   "metadata": {
    "collapsed": false
   }
  }
 ],
 "metadata": {
  "kernelspec": {
   "display_name": "Python 3",
   "language": "python",
   "name": "python3"
  },
  "language_info": {
   "codemirror_mode": {
    "name": "ipython",
    "version": 2
   },
   "file_extension": ".py",
   "mimetype": "text/x-python",
   "name": "python",
   "nbconvert_exporter": "python",
   "pygments_lexer": "ipython2",
   "version": "2.7.6"
  }
 },
 "nbformat": 4,
 "nbformat_minor": 0
}
